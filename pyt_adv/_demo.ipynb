{
 "cells": [
  {
   "cell_type": "markdown",
   "metadata": {},
   "source": [
    "# torchattacks demo"
   ]
  },
  {
   "cell_type": "code",
   "execution_count": null,
   "metadata": {},
   "outputs": [],
   "source": [
    "import torch\n",
    "import torchvision\n",
    "import torchvision.transforms as transforms\n",
    "import matplotlib.pyplot as plt\n",
    "import numpy as np\n",
    "import torch.nn.functional as F\n",
    "from torchvision.utils import save_image\n",
    "import torchattacks\n",
    "import os\n"
   ]
  },
  {
   "cell_type": "markdown",
   "metadata": {},
   "source": [
    "## Preprocessing"
   ]
  },
  {
   "cell_type": "markdown",
   "metadata": {},
   "source": [
    "### Load pretraiend model resnet56 from torch.hub"
   ]
  },
  {
   "cell_type": "code",
   "execution_count": null,
   "metadata": {},
   "outputs": [],
   "source": [
    "\n",
    "# Here is the selection: Loading from Github or local source.\n",
    "\n",
    "model = torch.hub.load(\"chenyaofo/pytorch-cifar-models\", \"cifar10_resnet56\", pretrained=True)\n",
    "#model = torch.hub.load(\"./pytorch-cifar-models\", \"cifar10_resnet56\", pretrained=True,source='local')"
   ]
  },
  {
   "cell_type": "markdown",
   "metadata": {},
   "source": [
    "### Load dataset from imagenet"
   ]
  },
  {
   "cell_type": "code",
   "execution_count": null,
   "metadata": {},
   "outputs": [],
   "source": [
    "\n",
    "use_cuda = True\n",
    "\n",
    "norm_mean = [0.485, 0.456, 0.406]\n",
    "norm_std = [0.229, 0.224, 0.225]\n",
    "transform = transforms.Compose(\n",
    "    [transforms.ToTensor(),\n",
    "     transforms.Normalize(norm_mean, norm_std),\n",
    "])\n",
    "\n",
    "trainset = torchvision.datasets.ImageFolder(root='./data', train=True,\n",
    "                                        download=False, transform=transform)\n",
    "trainloader = torch.utils.data.DataLoader(trainset, batch_size=64,\n",
    "                                          shuffle=True, num_workers=2)\n",
    "\n",
    "testset = torchvision.datasets.ImageFolder(root='./data', train=False,\n",
    "                                       download=False, transform=transform)\n",
    "testloader = torch.utils.data.DataLoader(testset, batch_size=64,\n",
    "                                         shuffle=False, num_workers=2)\n",
    "\n",
    "classes = ('plane', 'car', 'bird', 'cat',\n",
    "           'deer', 'dog', 'frog', 'horse', 'ship', 'truck')\n",
    "\n",
    "device = torch.device(\"cuda:0\" if torch.cuda.is_available() else \"cpu\")\n",
    "\n",
    "org_img = []\n",
    "org_labels = []\n",
    "with torch.no_grad():\n",
    "    for data in testloader:\n",
    "        images, labels = data\n",
    "        org_img.append(images)\n",
    "        org_labels.append(labels)\n"
   ]
  },
  {
   "cell_type": "markdown",
   "metadata": {},
   "source": [
    "### Test accuracy of the model"
   ]
  },
  {
   "cell_type": "code",
   "execution_count": null,
   "metadata": {},
   "outputs": [],
   "source": [
    "# definition of const\n",
    "# Small test\n",
    "st = 100\n",
    "# Midium test\n",
    "mt = 400\n",
    "# Large test\n",
    "lt = 1000\n",
    "# Full test\n",
    "ft = 2500"
   ]
  },
  {
   "cell_type": "code",
   "execution_count": null,
   "metadata": {},
   "outputs": [],
   "source": [
    "def test_acc_new(model, testloader, test_images, n_image = 100, save_test_images = False):\n",
    "    correct = 0\n",
    "    total = 0\n",
    "    p_labels = []\n",
    "    saved_img = []\n",
    "    i = 0\n",
    "    for data in testloader:\n",
    "        images, labels = data\n",
    "        if total < n_image:\n",
    "            outputs = model(test_images[i])\n",
    "            _, predicted = torch.max(outputs.data, 1)\n",
    "            for j in labels:\n",
    "                if save_test_images and total % 4 == 0:\n",
    "                    saved_img.append(test_images[total])\n",
    "#                 print(predicted, j)\n",
    "\n",
    "                p_labels.append(predicted)\n",
    "                if predicted[total%4] == j:\n",
    "                    correct += 1\n",
    "                total += 1\n",
    "            # if total % 40 == 0:\n",
    "            #     print(\"Iterations:{} / {} \\n Test Accuracy = {} / {} = {}\".format(total, n_image,  correct, total, str(correct / total)[:4]))\n",
    "            i += 1\n",
    "        else:\n",
    "            break\n",
    "    test_accuracy = (100.0 * correct / total)\n",
    "    print('Accuracy of the network on the', total, \"images is: \", test_accuracy, '%')\n",
    "    print(\"Saving test images = \", save_test_images)\n",
    "    if save_test_images == True:\n",
    "        return test_accuracy, p_labels, saved_img\n",
    "    else:\n",
    "        return test_accuracy, p_labels"
   ]
  },
  {
   "cell_type": "code",
   "execution_count": null,
   "metadata": {},
   "outputs": [],
   "source": [
    "test_accuracy, resnet56_labels, orig = test_acc_new(model, testloader, org_img, mt, True)"
   ]
  },
  {
   "cell_type": "markdown",
   "metadata": {},
   "source": [
    "## Attack"
   ]
  },
  {
   "cell_type": "markdown",
   "metadata": {},
   "source": [
    "### Tool functions"
   ]
  },
  {
   "cell_type": "code",
   "execution_count": null,
   "metadata": {},
   "outputs": [],
   "source": [
    "def unnormalize(img, mean = np.array(norm_mean), std = np.array(norm_std)):\n",
    "    '''\n",
    "    unnormalize the image that has been normalized with mean and std\n",
    "    '''\n",
    "    inverse_mean = - mean/std\n",
    "    inverse_std = 1/std\n",
    "    img = transforms.Normalize(mean=-mean/std, std=1/std)(img)\n",
    "    return img\n",
    "\n",
    "def imshow(img):\n",
    "    img = img / 2 + 0.5     # unnormalize\n",
    "    npimg = img.numpy()\n",
    "    plt.imshow(np.transpose(npimg, (1, 2, 0)))\n",
    "\n",
    "def ax_imshow(ax, img, label):\n",
    "    img = unnormalize(img)     # unnormalize\n",
    "    img = np.clip(img, 0., 1.)\n",
    "    ax.set_xticks([])\n",
    "    ax.set_yticks([])\n",
    "    img = np.transpose(img, (1,2,0))\n",
    "    ax.imshow(img)\n",
    "    ax.set_title(classes[label])"
   ]
  },
  {
   "cell_type": "markdown",
   "metadata": {},
   "source": [
    "### Implement torchattacks.FGSM"
   ]
  },
  {
   "cell_type": "code",
   "execution_count": null,
   "metadata": {},
   "outputs": [],
   "source": [
    "test_loader_1=torch.utils.data.DataLoader(testset,batch_size=1,shuffle=True)\n",
    "epsilons = []\n",
    "init_eps = 0\n",
    "accuracies=[]\n",
    "step = 0.001\n",
    "n_step = 5\n"
   ]
  },
  {
   "cell_type": "code",
   "execution_count": null,
   "metadata": {},
   "outputs": [],
   "source": [
    "epsilons=[0.001,0.005,0.01,0.05,0.1,0.5,1]"
   ]
  },
  {
   "cell_type": "code",
   "execution_count": null,
   "metadata": {},
   "outputs": [],
   "source": [
    "eps_times=0\n",
    "fin_image=[]\n",
    "fgsm_examples = []\n",
    "for eps in epsilons:\n",
    "    visual_examples = 5\n",
    "    fgsm_img = []\n",
    "    attack = torchattacks.PGD(model, eps)\n",
    "    count = 0\n",
    "    for i in range(500):\n",
    "        fgsm_img.append(attack(org_img[i], org_labels[i]))\n",
    "    fgsm_test_accuracy, fgsm_labels , a_images= test_acc_new(model, testloader, fgsm_img, mt, True)\n",
    "    dataiter = iter(testloader)\n",
    "    images, labels = dataiter.next()\n",
    "\n",
    "# print images\n",
    "    print('GroundTruth: ', ' '.join('%5s' % classes[labels[j]] for j in range(4)))\n",
    "    accuracies.append(fgsm_test_accuracy)\n",
    "    fgsm_examples.append(a_images)"
   ]
  },
  {
   "cell_type": "markdown",
   "metadata": {},
   "source": [
    "### Conclusion"
   ]
  },
  {
   "cell_type": "code",
   "execution_count": null,
   "metadata": {},
   "outputs": [],
   "source": [
    "plt.figure(figsize=(5,5))\n",
    "plt.plot([0] + epsilons, [test_accuracy] + accuracies, \"*-\")\n",
    "plt.yticks(np.arange(0.0, test_accuracy, step=10))\n",
    "plt.xticks(np.arange(0.0, max(epsilons), step=max(epsilons)/5))\n",
    "plt.title(\"Accuracy vs Epsilon\")\n",
    "plt.xlabel(\"Epsilon\")\n",
    "plt.ylabel(\"Accuracy\")\n",
    "plt.show()"
   ]
  },
  {
   "cell_type": "markdown",
   "metadata": {},
   "source": [
    "Save image"
   ]
  },
  {
   "cell_type": "code",
   "execution_count": null,
   "metadata": {},
   "outputs": [],
   "source": [
    "# for i in range(len(fgsm_examples)):\n",
    "#     dir_name=os.getcwd()+'/FGSM_img/epi_%i/'%(i,)\n",
    "#     os.mkdir(dir_name)\n",
    "#     id=0\n",
    "#     for j in range(len(fgsm_examples[i])):\n",
    "#         save_image(fgsm_examples[i][j],dir_name+'_%i.png'%(id,))\n",
    "#         id+=1"
   ]
  },
  {
   "cell_type": "code",
   "execution_count": null,
   "metadata": {},
   "outputs": [],
   "source": [
    "dataiter = iter(testloader)\n",
    "images, labels = dataiter.next()\n",
    "\n",
    "# print images\n",
    "imshow(torchvision.utils.make_grid(a_images[0]))\n",
    "print('GroundTruth: ', ' '.join('%5s' % classes[labels[j]] for j in range(4)))"
   ]
  },
  {
   "cell_type": "code",
   "execution_count": null,
   "metadata": {},
   "outputs": [],
   "source": [
    "imshow(torchvision.utils.make_grid(fgsm_examples[6][1]))"
   ]
  },
  {
   "cell_type": "code",
   "execution_count": null,
   "metadata": {},
   "outputs": [],
   "source": [
    "imshow(torchvision.utils.make_grid(orig[1]))"
   ]
  }
 ],
 "metadata": {
  "kernelspec": {
   "display_name": "Python 3.7.13 ('pytor')",
   "language": "python",
   "name": "python3"
  },
  "language_info": {
   "codemirror_mode": {
    "name": "ipython",
    "version": 3
   },
   "file_extension": ".py",
   "mimetype": "text/x-python",
   "name": "python",
   "nbconvert_exporter": "python",
   "pygments_lexer": "ipython3",
   "version": "3.7.13"
  },
  "orig_nbformat": 4,
  "vscode": {
   "interpreter": {
    "hash": "8735e5a44aaffc82247471f98e61afd3a8c083af1d83bb5f2428c9ba5da5121f"
   }
  }
 },
 "nbformat": 4,
 "nbformat_minor": 2
}
