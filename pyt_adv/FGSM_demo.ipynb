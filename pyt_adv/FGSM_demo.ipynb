{
 "cells": [
  {
   "cell_type": "markdown",
   "metadata": {},
   "source": [
    "# FGSM by torchattacks"
   ]
  },
  {
   "cell_type": "markdown",
   "metadata": {},
   "source": [
    "## Preprocessing"
   ]
  },
  {
   "cell_type": "markdown",
   "metadata": {},
   "source": [
    "### Load pretraiend model resnet56 from torch.hub"
   ]
  },
  {
   "cell_type": "code",
   "execution_count": 17,
   "metadata": {},
   "outputs": [],
   "source": [
    "import torch\n",
    "model = torch.hub.load(\"./pytorch-cifar-models\", \"cifar10_resnet56\", pretrained=True,source='local')"
   ]
  },
  {
   "cell_type": "markdown",
   "metadata": {},
   "source": [
    "### Load dataset from CIFAR-10"
   ]
  },
  {
   "cell_type": "code",
   "execution_count": 18,
   "metadata": {},
   "outputs": [],
   "source": [
    "import torchvision\n",
    "import torchvision.transforms as transforms\n",
    "import matplotlib.pyplot as plt\n",
    "import numpy as np\n",
    "import torch.nn.functional as F\n",
    "import torchattacks\n",
    "\n",
    "use_cuda = True\n",
    "norm_mean = [0.485, 0.456, 0.406]\n",
    "norm_std = [0.229, 0.224, 0.225]\n",
    "transform = transforms.Compose(\n",
    "    [transforms.ToTensor(),\n",
    "#     transforms.Normalize((0.5, 0.5, 0.5), (0.5, 0.5, 0.5))])\n",
    "     transforms.Normalize(norm_mean, norm_std),\n",
    "])\n",
    "\n",
    "trainset = torchvision.datasets.CIFAR10(root='./data', train=True,\n",
    "                                        download=False, transform=transform)\n",
    "trainloader = torch.utils.data.DataLoader(trainset, batch_size=4,\n",
    "                                          shuffle=True, num_workers=2)\n",
    "\n",
    "testset = torchvision.datasets.CIFAR10(root='./data', train=False,\n",
    "                                       download=False, transform=transform)\n",
    "testloader = torch.utils.data.DataLoader(testset, batch_size=4,\n",
    "                                         shuffle=False, num_workers=2)\n",
    "\n",
    "classes = ('plane', 'car', 'bird', 'cat',\n",
    "           'deer', 'dog', 'frog', 'horse', 'ship', 'truck')\n",
    "\n",
    "device = torch.device(\"cuda:0\" if torch.cuda.is_available() else \"cpu\")\n",
    "\n",
    "org_img = []\n",
    "org_labels = []\n",
    "with torch.no_grad():\n",
    "    for data in testloader:\n",
    "        images, labels = data\n",
    "        org_img.append(images)\n",
    "        org_labels.append(labels)\n"
   ]
  },
  {
   "cell_type": "markdown",
   "metadata": {},
   "source": [
    "### Test accuracy of the model"
   ]
  },
  {
   "cell_type": "code",
   "execution_count": 19,
   "metadata": {},
   "outputs": [],
   "source": [
    "# Small test\n",
    "st = 100\n",
    "# Midium test\n",
    "mt = 400\n",
    "# Large test\n",
    "lt = 1000\n",
    "# Full test\n",
    "ft = 2500"
   ]
  },
  {
   "cell_type": "code",
   "execution_count": 20,
   "metadata": {},
   "outputs": [],
   "source": [
    "def test_acc_new(model, testloader, test_images, n_image = 100, save_test_images = False):\n",
    "    correct = 0\n",
    "    total = 0\n",
    "    p_labels = []\n",
    "    saved_img = []\n",
    "    i = 0\n",
    "    for data in testloader:\n",
    "        images, labels = data\n",
    "        if total < n_image:\n",
    "            outputs = model(test_images[i])\n",
    "            _, predicted = torch.max(outputs.data, 1)\n",
    "            for j in labels:\n",
    "                if save_test_images and total % 4 == 0:\n",
    "                    saved_img.append(test_images[total])\n",
    "#                 print(predicted, j)\n",
    "\n",
    "                p_labels.append(predicted)\n",
    "                if predicted[total%4] == j:\n",
    "                    correct += 1\n",
    "                total += 1\n",
    "            if total % 40 == 0:\n",
    "                print(\"Iterations:{} / {} \\n Test Accuracy = {} / {} = {}\".format(total, n_image,  correct, total, str(correct / total)[:4]))\n",
    "            i += 1\n",
    "        else:\n",
    "            break\n",
    "    test_accuracy = (100.0 * correct / total)\n",
    "    print('Accuracy of the network on the', total, \"images is: \", test_accuracy, '%')\n",
    "    print(\"Saving test images = \", save_test_images)\n",
    "    if save_test_images == True:\n",
    "        return test_accuracy, p_labels, saved_img\n",
    "    else:\n",
    "        return test_accuracy, p_labels"
   ]
  },
  {
   "cell_type": "code",
   "execution_count": 21,
   "metadata": {},
   "outputs": [
    {
     "name": "stdout",
     "output_type": "stream",
     "text": [
      "Iterations:40 / 400 \n",
      " Test Accuracy = 33 / 40 = 0.82\n",
      "Iterations:80 / 400 \n",
      " Test Accuracy = 62 / 80 = 0.77\n",
      "Iterations:120 / 400 \n",
      " Test Accuracy = 93 / 120 = 0.77\n",
      "Iterations:160 / 400 \n",
      " Test Accuracy = 122 / 160 = 0.76\n",
      "Iterations:200 / 400 \n",
      " Test Accuracy = 146 / 200 = 0.73\n",
      "Iterations:240 / 400 \n",
      " Test Accuracy = 174 / 240 = 0.72\n",
      "Iterations:280 / 400 \n",
      " Test Accuracy = 206 / 280 = 0.73\n",
      "Iterations:320 / 400 \n",
      " Test Accuracy = 233 / 320 = 0.72\n",
      "Iterations:360 / 400 \n",
      " Test Accuracy = 265 / 360 = 0.73\n",
      "Iterations:400 / 400 \n",
      " Test Accuracy = 297 / 400 = 0.74\n",
      "Accuracy of the network on the 400 images is:  74.25 %\n",
      "Saving test images =  True\n"
     ]
    }
   ],
   "source": [
    "test_accuracy, resnet56_labels, orig = test_acc_new(model, testloader, org_img, mt, True)"
   ]
  },
  {
   "cell_type": "markdown",
   "metadata": {},
   "source": [
    "## FGSM attack"
   ]
  },
  {
   "cell_type": "markdown",
   "metadata": {},
   "source": [
    "### Tool functions"
   ]
  },
  {
   "cell_type": "code",
   "execution_count": 22,
   "metadata": {},
   "outputs": [],
   "source": [
    "# def unnormalize(img, mean = np.array(norm_mean), std = np.array(norm_std)):\n",
    "#     '''\n",
    "#     unnormalize the image that has been normalized with mean and std\n",
    "#     '''\n",
    "#     inverse_mean = - mean/std\n",
    "#     inverse_std = 1/std\n",
    "#     img = transforms.Normalize(mean=-mean/std, std=1/std)(img)\n",
    "#     return img\n",
    "\n",
    "# def imshow(img):\n",
    "#     img = img / 2 + 0.5     # unnormalize\n",
    "#     npimg = img.numpy()\n",
    "#     plt.imshow(np.transpose(npimg, (1, 2, 0)))\n",
    "\n",
    "# def ax_imshow(ax, img, label):\n",
    "#     img = unnormalize(img)     # unnormalize\n",
    "#     img = np.clip(img, 0., 1.)\n",
    "#     ax.set_xticks([])\n",
    "#     ax.set_yticks([])\n",
    "#     img = np.transpose(img, (1,2,0))\n",
    "#     ax.imshow(img)\n",
    "#     ax.set_title(classes[label])"
   ]
  },
  {
   "cell_type": "markdown",
   "metadata": {},
   "source": [
    "### Implement torchattacks.FGSM"
   ]
  },
  {
   "cell_type": "code",
   "execution_count": 23,
   "metadata": {},
   "outputs": [],
   "source": [
    "test_loader_1=torch.utils.data.DataLoader(testset,batch_size=1,shuffle=True)\n",
    "epsilons = []\n",
    "init_eps = 0\n",
    "accuracies=[]\n",
    "step = 0.1\n",
    "n_step = 5\n",
    "\n",
    "for i in range(n_step):\n",
    "    epsilons.append(init_eps + i*step)\n",
    "\n",
    "# Run test for each epsilon\n"
   ]
  },
  {
   "cell_type": "code",
   "execution_count": 24,
   "metadata": {},
   "outputs": [
    {
     "name": "stdout",
     "output_type": "stream",
     "text": [
      "[0.0, 0.1, 0.2, 0.30000000000000004, 0.4]\n"
     ]
    }
   ],
   "source": [
    "print(epsilons)"
   ]
  },
  {
   "cell_type": "code",
   "execution_count": 25,
   "metadata": {},
   "outputs": [
    {
     "name": "stdout",
     "output_type": "stream",
     "text": [
      "Iterations:40 / 400 \n",
      " Test Accuracy = 30 / 40 = 0.75\n",
      "Iterations:80 / 400 \n",
      " Test Accuracy = 47 / 80 = 0.58\n",
      "Iterations:120 / 400 \n",
      " Test Accuracy = 69 / 120 = 0.57\n",
      "Iterations:160 / 400 \n",
      " Test Accuracy = 93 / 160 = 0.58\n",
      "Iterations:200 / 400 \n",
      " Test Accuracy = 115 / 200 = 0.57\n",
      "Iterations:240 / 400 \n",
      " Test Accuracy = 140 / 240 = 0.58\n",
      "Iterations:280 / 400 \n",
      " Test Accuracy = 161 / 280 = 0.57\n",
      "Iterations:320 / 400 \n",
      " Test Accuracy = 183 / 320 = 0.57\n",
      "Iterations:360 / 400 \n",
      " Test Accuracy = 207 / 360 = 0.57\n",
      "Iterations:400 / 400 \n",
      " Test Accuracy = 231 / 400 = 0.57\n",
      "Accuracy of the network on the 400 images is:  57.75 %\n",
      "Saving test images =  True\n",
      "Iterations:40 / 400 \n",
      " Test Accuracy = 24 / 40 = 0.6\n",
      "Iterations:80 / 400 \n",
      " Test Accuracy = 38 / 80 = 0.47\n",
      "Iterations:120 / 400 \n",
      " Test Accuracy = 58 / 120 = 0.48\n",
      "Iterations:160 / 400 \n",
      " Test Accuracy = 81 / 160 = 0.50\n",
      "Iterations:200 / 400 \n",
      " Test Accuracy = 99 / 200 = 0.49\n",
      "Iterations:240 / 400 \n",
      " Test Accuracy = 113 / 240 = 0.47\n",
      "Iterations:280 / 400 \n",
      " Test Accuracy = 128 / 280 = 0.45\n",
      "Iterations:320 / 400 \n",
      " Test Accuracy = 147 / 320 = 0.45\n",
      "Iterations:360 / 400 \n",
      " Test Accuracy = 167 / 360 = 0.46\n",
      "Iterations:400 / 400 \n",
      " Test Accuracy = 188 / 400 = 0.47\n",
      "Accuracy of the network on the 400 images is:  47.0 %\n",
      "Saving test images =  True\n",
      "Iterations:40 / 400 \n",
      " Test Accuracy = 18 / 40 = 0.45\n",
      "Iterations:80 / 400 \n",
      " Test Accuracy = 32 / 80 = 0.4\n",
      "Iterations:120 / 400 \n",
      " Test Accuracy = 51 / 120 = 0.42\n",
      "Iterations:160 / 400 \n",
      " Test Accuracy = 73 / 160 = 0.45\n",
      "Iterations:200 / 400 \n",
      " Test Accuracy = 90 / 200 = 0.45\n",
      "Iterations:240 / 400 \n",
      " Test Accuracy = 110 / 240 = 0.45\n",
      "Iterations:280 / 400 \n",
      " Test Accuracy = 119 / 280 = 0.42\n",
      "Iterations:320 / 400 \n",
      " Test Accuracy = 135 / 320 = 0.42\n",
      "Iterations:360 / 400 \n",
      " Test Accuracy = 153 / 360 = 0.42\n",
      "Iterations:400 / 400 \n",
      " Test Accuracy = 172 / 400 = 0.43\n",
      "Accuracy of the network on the 400 images is:  43.0 %\n",
      "Saving test images =  True\n",
      "Iterations:40 / 400 \n",
      " Test Accuracy = 21 / 40 = 0.52\n",
      "Iterations:80 / 400 \n",
      " Test Accuracy = 34 / 80 = 0.42\n",
      "Iterations:120 / 400 \n",
      " Test Accuracy = 48 / 120 = 0.4\n",
      "Iterations:160 / 400 \n",
      " Test Accuracy = 63 / 160 = 0.39\n",
      "Iterations:200 / 400 \n",
      " Test Accuracy = 80 / 200 = 0.4\n",
      "Iterations:240 / 400 \n",
      " Test Accuracy = 97 / 240 = 0.40\n",
      "Iterations:280 / 400 \n",
      " Test Accuracy = 107 / 280 = 0.38\n",
      "Iterations:320 / 400 \n",
      " Test Accuracy = 124 / 320 = 0.38\n",
      "Iterations:360 / 400 \n",
      " Test Accuracy = 143 / 360 = 0.39\n",
      "Iterations:400 / 400 \n",
      " Test Accuracy = 163 / 400 = 0.40\n",
      "Accuracy of the network on the 400 images is:  40.75 %\n",
      "Saving test images =  True\n",
      "Iterations:40 / 400 \n",
      " Test Accuracy = 20 / 40 = 0.5\n",
      "Iterations:80 / 400 \n",
      " Test Accuracy = 33 / 80 = 0.41\n",
      "Iterations:120 / 400 \n",
      " Test Accuracy = 50 / 120 = 0.41\n",
      "Iterations:160 / 400 \n",
      " Test Accuracy = 58 / 160 = 0.36\n",
      "Iterations:200 / 400 \n",
      " Test Accuracy = 76 / 200 = 0.38\n",
      "Iterations:240 / 400 \n",
      " Test Accuracy = 88 / 240 = 0.36\n",
      "Iterations:280 / 400 \n",
      " Test Accuracy = 100 / 280 = 0.35\n",
      "Iterations:320 / 400 \n",
      " Test Accuracy = 116 / 320 = 0.36\n",
      "Iterations:360 / 400 \n",
      " Test Accuracy = 137 / 360 = 0.38\n",
      "Iterations:400 / 400 \n",
      " Test Accuracy = 156 / 400 = 0.39\n",
      "Accuracy of the network on the 400 images is:  39.0 %\n",
      "Saving test images =  True\n"
     ]
    }
   ],
   "source": [
    "for eps in epsilons:\n",
    "    visual_examples = 5\n",
    "    fgsm_examples = []\n",
    "    fgsm_img = []\n",
    "    attack = torchattacks.FGSM(model, eps)\n",
    "    count = 0\n",
    "    for i in range(500):\n",
    "        fgsm_img.append(attack(org_img[i], org_labels[i]))\n",
    "    fgsm_test_accuracy, fgsm_labels , a_images= test_acc_new(model, testloader, fgsm_img, mt, True)\n",
    "    accuracies.append(fgsm_test_accuracy)\n",
    "    fgsm_examples.append(a_images)"
   ]
  },
  {
   "cell_type": "code",
   "execution_count": 26,
   "metadata": {},
   "outputs": [
    {
     "name": "stdout",
     "output_type": "stream",
     "text": [
      "[57.75, 47.0, 43.0, 40.75, 39.0]\n"
     ]
    }
   ],
   "source": [
    "print(accuracies)"
   ]
  },
  {
   "cell_type": "code",
   "execution_count": null,
   "metadata": {},
   "outputs": [],
   "source": [
    "plt.figure(figsize=(5,5))\n",
    "plt.plot([0] + epsilons, [test_accuracy] + accuracies, \"*-\")\n",
    "plt.yticks(np.arange(0.0, test_accuracy, step=10))\n",
    "plt.xticks(np.arange(0.0, max(epsilons), step=max(epsilons)/5))\n",
    "plt.title(\"Accuracy vs Epsilon\")\n",
    "plt.xlabel(\"Epsilon\")\n",
    "plt.ylabel(\"Accuracy\")\n",
    "plt.show()"
   ]
  },
  {
   "cell_type": "code",
   "execution_count": 31,
   "metadata": {},
   "outputs": [],
   "source": [
    "def unnormalize(img, mean = np.array(norm_mean), std = np.array(norm_std)):\n",
    "    '''\n",
    "    unnormalize the image that has been normalized with mean and std\n",
    "    '''\n",
    "    inverse_mean = - mean/std\n",
    "    inverse_std = 1/std\n",
    "    img = transforms.Normalize(mean=-mean/std, std=1/std)(img)\n",
    "    return img\n",
    "\n",
    "def imshow(img):\n",
    "    img = img / 2 + 0.5     # unnormalize\n",
    "    npimg = img.numpy()\n",
    "    plt.imshow(np.transpose(npimg, (1, 2, 0)))\n",
    "\n",
    "def ax_imshow(ax, img, label):\n",
    "    img = unnormalize(img)     # unnormalize\n",
    "    img = np.clip(img, 0., 1.)\n",
    "    ax.set_xticks([])\n",
    "    ax.set_yticks([])\n",
    "    img = np.transpose(img, (1,2,0))\n",
    "    ax.imshow(img)\n",
    "    ax.set_title(classes[label])"
   ]
  },
  {
   "cell_type": "code",
   "execution_count": 34,
   "metadata": {},
   "outputs": [],
   "source": [
    "# #print(orig[0].shape, adv_ex.shape)\n",
    "# print(len(resnet56_labels))\n",
    "# print(len(fgsm_labels))\n",
    "# #print(resnet56_labels.shape)\n",
    "# print(labels.shape)\n",
    "# #print('%5s' % classes[resnet56_labels[i][j]])\n",
    "# print(len(nnoise_labels), noised_img.shape)\n",
    "# print(resnet56_labels[0])\n",
    "# print(fgsm_labels[0][0])"
   ]
  },
  {
   "cell_type": "code",
   "execution_count": 35,
   "metadata": {},
   "outputs": [
    {
     "name": "stdout",
     "output_type": "stream",
     "text": [
      "GroundTruth:    cat  ship  ship plane\n"
     ]
    },
    {
     "data": {
      "image/png": "[encoded data removed]",
      "text/plain": [
       "<Figure size 640x480 with 1 Axes>"
      ]
     },
     "metadata": {},
     "output_type": "display_data"
    }
   ],
   "source": [
    "dataiter = iter(testloader)\n",
    "images, labels = dataiter.next()\n",
    "\n",
    "# print images\n",
    "imshow(torchvision.utils.make_grid(a_images[0]))\n",
    "print('GroundTruth: ', ' '.join('%5s' % classes[labels[j]] for j in range(4)))"
   ]
  }
 ],
 "metadata": {
  "kernelspec": {
   "display_name": "Python 3.7.13 ('pytor')",
   "language": "python",
   "name": "python3"
  },
  "language_info": {
   "codemirror_mode": {
    "name": "ipython",
    "version": 3
   },
   "file_extension": ".py",
   "mimetype": "text/x-python",
   "name": "python",
   "nbconvert_exporter": "python",
   "pygments_lexer": "ipython3",
   "version": "3.7.13"
  },
  "orig_nbformat": 4,
  "vscode": {
   "interpreter": {
    "hash": "8735e5a44aaffc82247471f98e61afd3a8c083af1d83bb5f2428c9ba5da5121f"
   }
  }
 },
 "nbformat": 4,
 "nbformat_minor": 2
}
